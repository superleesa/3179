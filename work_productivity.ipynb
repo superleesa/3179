{
 "cells": [
  {
   "cell_type": "code",
   "execution_count": 46,
   "id": "0d8230eb",
   "metadata": {},
   "outputs": [],
   "source": [
    "import pandas as pd\n",
    "import matplotlib.pyplot as plt"
   ]
  },
  {
   "cell_type": "code",
   "execution_count": 3,
   "id": "c3745095",
   "metadata": {},
   "outputs": [],
   "source": [
    "df = pd.read_csv(\"productivity_raw.csv\")"
   ]
  },
  {
   "cell_type": "code",
   "execution_count": 6,
   "id": "b0c03471",
   "metadata": {},
   "outputs": [
    {
     "data": {
      "text/html": [
       "<div>\n",
       "<style scoped>\n",
       "    .dataframe tbody tr th:only-of-type {\n",
       "        vertical-align: middle;\n",
       "    }\n",
       "\n",
       "    .dataframe tbody tr th {\n",
       "        vertical-align: top;\n",
       "    }\n",
       "\n",
       "    .dataframe thead th {\n",
       "        text-align: right;\n",
       "    }\n",
       "</style>\n",
       "<table border=\"1\" class=\"dataframe\">\n",
       "  <thead>\n",
       "    <tr style=\"text-align: right;\">\n",
       "      <th></th>\n",
       "      <th>LOCATION</th>\n",
       "      <th>INDICATOR</th>\n",
       "      <th>SUBJECT</th>\n",
       "      <th>MEASURE</th>\n",
       "      <th>FREQUENCY</th>\n",
       "      <th>TIME</th>\n",
       "      <th>Value</th>\n",
       "      <th>Flag Codes</th>\n",
       "    </tr>\n",
       "  </thead>\n",
       "  <tbody>\n",
       "    <tr>\n",
       "      <th>0</th>\n",
       "      <td>AUS</td>\n",
       "      <td>GDPHRWKD</td>\n",
       "      <td>TOT</td>\n",
       "      <td>USD</td>\n",
       "      <td>A</td>\n",
       "      <td>1970</td>\n",
       "      <td>26.841344</td>\n",
       "      <td>NaN</td>\n",
       "    </tr>\n",
       "    <tr>\n",
       "      <th>1</th>\n",
       "      <td>AUS</td>\n",
       "      <td>GDPHRWKD</td>\n",
       "      <td>TOT</td>\n",
       "      <td>USD</td>\n",
       "      <td>A</td>\n",
       "      <td>1971</td>\n",
       "      <td>27.511634</td>\n",
       "      <td>NaN</td>\n",
       "    </tr>\n",
       "    <tr>\n",
       "      <th>2</th>\n",
       "      <td>AUS</td>\n",
       "      <td>GDPHRWKD</td>\n",
       "      <td>TOT</td>\n",
       "      <td>USD</td>\n",
       "      <td>A</td>\n",
       "      <td>1972</td>\n",
       "      <td>28.118660</td>\n",
       "      <td>NaN</td>\n",
       "    </tr>\n",
       "    <tr>\n",
       "      <th>3</th>\n",
       "      <td>AUS</td>\n",
       "      <td>GDPHRWKD</td>\n",
       "      <td>TOT</td>\n",
       "      <td>USD</td>\n",
       "      <td>A</td>\n",
       "      <td>1973</td>\n",
       "      <td>28.698975</td>\n",
       "      <td>NaN</td>\n",
       "    </tr>\n",
       "    <tr>\n",
       "      <th>4</th>\n",
       "      <td>AUS</td>\n",
       "      <td>GDPHRWKD</td>\n",
       "      <td>TOT</td>\n",
       "      <td>USD</td>\n",
       "      <td>A</td>\n",
       "      <td>1974</td>\n",
       "      <td>28.238353</td>\n",
       "      <td>NaN</td>\n",
       "    </tr>\n",
       "    <tr>\n",
       "      <th>...</th>\n",
       "      <td>...</td>\n",
       "      <td>...</td>\n",
       "      <td>...</td>\n",
       "      <td>...</td>\n",
       "      <td>...</td>\n",
       "      <td>...</td>\n",
       "      <td>...</td>\n",
       "      <td>...</td>\n",
       "    </tr>\n",
       "    <tr>\n",
       "      <th>3940</th>\n",
       "      <td>COL</td>\n",
       "      <td>GDPHRWKD</td>\n",
       "      <td>TOT</td>\n",
       "      <td>IDX2015</td>\n",
       "      <td>A</td>\n",
       "      <td>2018</td>\n",
       "      <td>104.505878</td>\n",
       "      <td>NaN</td>\n",
       "    </tr>\n",
       "    <tr>\n",
       "      <th>3941</th>\n",
       "      <td>COL</td>\n",
       "      <td>GDPHRWKD</td>\n",
       "      <td>TOT</td>\n",
       "      <td>IDX2015</td>\n",
       "      <td>A</td>\n",
       "      <td>2019</td>\n",
       "      <td>107.793852</td>\n",
       "      <td>NaN</td>\n",
       "    </tr>\n",
       "    <tr>\n",
       "      <th>3942</th>\n",
       "      <td>COL</td>\n",
       "      <td>GDPHRWKD</td>\n",
       "      <td>TOT</td>\n",
       "      <td>IDX2015</td>\n",
       "      <td>A</td>\n",
       "      <td>2020</td>\n",
       "      <td>128.766334</td>\n",
       "      <td>NaN</td>\n",
       "    </tr>\n",
       "    <tr>\n",
       "      <th>3943</th>\n",
       "      <td>COL</td>\n",
       "      <td>GDPHRWKD</td>\n",
       "      <td>TOT</td>\n",
       "      <td>IDX2015</td>\n",
       "      <td>A</td>\n",
       "      <td>2021</td>\n",
       "      <td>114.888693</td>\n",
       "      <td>NaN</td>\n",
       "    </tr>\n",
       "    <tr>\n",
       "      <th>3944</th>\n",
       "      <td>COL</td>\n",
       "      <td>GDPHRWKD</td>\n",
       "      <td>TOT</td>\n",
       "      <td>IDX2015</td>\n",
       "      <td>A</td>\n",
       "      <td>2022</td>\n",
       "      <td>114.305086</td>\n",
       "      <td>NaN</td>\n",
       "    </tr>\n",
       "  </tbody>\n",
       "</table>\n",
       "<p>3945 rows × 8 columns</p>\n",
       "</div>"
      ],
      "text/plain": [
       "     LOCATION INDICATOR SUBJECT  MEASURE FREQUENCY  TIME       Value  \\\n",
       "0         AUS  GDPHRWKD     TOT      USD         A  1970   26.841344   \n",
       "1         AUS  GDPHRWKD     TOT      USD         A  1971   27.511634   \n",
       "2         AUS  GDPHRWKD     TOT      USD         A  1972   28.118660   \n",
       "3         AUS  GDPHRWKD     TOT      USD         A  1973   28.698975   \n",
       "4         AUS  GDPHRWKD     TOT      USD         A  1974   28.238353   \n",
       "...       ...       ...     ...      ...       ...   ...         ...   \n",
       "3940      COL  GDPHRWKD     TOT  IDX2015         A  2018  104.505878   \n",
       "3941      COL  GDPHRWKD     TOT  IDX2015         A  2019  107.793852   \n",
       "3942      COL  GDPHRWKD     TOT  IDX2015         A  2020  128.766334   \n",
       "3943      COL  GDPHRWKD     TOT  IDX2015         A  2021  114.888693   \n",
       "3944      COL  GDPHRWKD     TOT  IDX2015         A  2022  114.305086   \n",
       "\n",
       "     Flag Codes  \n",
       "0           NaN  \n",
       "1           NaN  \n",
       "2           NaN  \n",
       "3           NaN  \n",
       "4           NaN  \n",
       "...         ...  \n",
       "3940        NaN  \n",
       "3941        NaN  \n",
       "3942        NaN  \n",
       "3943        NaN  \n",
       "3944        NaN  \n",
       "\n",
       "[3945 rows x 8 columns]"
      ]
     },
     "execution_count": 6,
     "metadata": {},
     "output_type": "execute_result"
    }
   ],
   "source": [
    "df"
   ]
  },
  {
   "cell_type": "code",
   "execution_count": 5,
   "id": "0409f747",
   "metadata": {},
   "outputs": [
    {
     "data": {
      "text/plain": [
       "array(['AUS', 'AUT', 'BEL', 'CAN', 'CZE', 'DNK', 'FIN', 'FRA', 'DEU',\n",
       "       'GRC', 'HUN', 'ISL', 'IRL', 'ITA', 'JPN', 'KOR', 'LUX', 'MEX',\n",
       "       'NLD', 'NZL', 'NOR', 'POL', 'PRT', 'SVK', 'ESP', 'SWE', 'CHE',\n",
       "       'TUR', 'GBR', 'USA', 'CHL', 'EST', 'ISR', 'RUS', 'SVN', 'OECD',\n",
       "       'EU28', 'G-7', 'LVA', 'LTU', 'EA19', 'ZAF', 'CRI', 'BGR', 'HRV',\n",
       "       'ROU', 'EU27_2020', 'COL'], dtype=object)"
      ]
     },
     "execution_count": 5,
     "metadata": {},
     "output_type": "execute_result"
    }
   ],
   "source": [
    "df[\"LOCATION\"].unique()"
   ]
  },
  {
   "cell_type": "code",
   "execution_count": 13,
   "id": "aa7282a5",
   "metadata": {},
   "outputs": [
    {
     "data": {
      "text/plain": [
       "202"
      ]
     },
     "execution_count": 13,
     "metadata": {},
     "output_type": "execute_result"
    }
   ],
   "source": [
    "(df[\"LOCATION\"].isin([\"EU28\", \"G-7\", \"EU27-2020\", \"OECD\"])).sum()"
   ]
  },
  {
   "cell_type": "code",
   "execution_count": 22,
   "id": "277151e9",
   "metadata": {},
   "outputs": [],
   "source": [
    "df_filtered = df.loc[~df[\"LOCATION\"].isin([\"EU28\", \"G-7\", \"EU27_2020\", \"OECD\", \"EA19\"])]"
   ]
  },
  {
   "cell_type": "code",
   "execution_count": 23,
   "id": "4c2af1a6",
   "metadata": {},
   "outputs": [
    {
     "data": {
      "text/plain": [
       "array(['AUS', 'AUT', 'BEL', 'CAN', 'CZE', 'DNK', 'FIN', 'FRA', 'DEU',\n",
       "       'GRC', 'HUN', 'ISL', 'IRL', 'ITA', 'JPN', 'KOR', 'LUX', 'MEX',\n",
       "       'NLD', 'NZL', 'NOR', 'POL', 'PRT', 'SVK', 'ESP', 'SWE', 'CHE',\n",
       "       'TUR', 'GBR', 'USA', 'CHL', 'EST', 'ISR', 'RUS', 'SVN', 'LVA',\n",
       "       'LTU', 'ZAF', 'CRI', 'BGR', 'HRV', 'ROU', 'COL'], dtype=object)"
      ]
     },
     "execution_count": 23,
     "metadata": {},
     "output_type": "execute_result"
    }
   ],
   "source": [
    "df_filtered[\"LOCATION\"].unique()"
   ]
  },
  {
   "cell_type": "code",
   "execution_count": 24,
   "id": "3b5b245f",
   "metadata": {},
   "outputs": [],
   "source": [
    "country_names = ['Australia', 'Austria', 'Belgium', 'Canada', 'Czech Republic', 'Denmark', 'Finland', 'France', 'Germany', 'Greece', 'Hungary', 'Iceland', 'Ireland', 'Italy', 'Japan', 'Korea, Republic of (South Korea)', 'Luxembourg', 'Mexico', 'Netherlands', 'New Zealand', 'Norway', 'Poland', 'Portugal', 'Slovakia', 'Spain', 'Sweden', 'Switzerland', 'Turkey', 'United Kingdom', 'United States', 'Chile', 'Estonia', 'Israel', 'Russia', 'Slovenia','Latvia','Lithuania','South Africa','Costa Rica','Bulgaria','Croatia','Romania','Colombia']"
   ]
  },
  {
   "cell_type": "code",
   "execution_count": 25,
   "id": "f0d304f0",
   "metadata": {},
   "outputs": [],
   "source": [
    "country_codes = list(df_filtered[\"LOCATION\"].unique())"
   ]
  },
  {
   "cell_type": "code",
   "execution_count": 27,
   "id": "51fbb7aa",
   "metadata": {},
   "outputs": [],
   "source": [
    "code_to_name = {key:value for key, value in zip(country_codes, country_names)}"
   ]
  },
  {
   "cell_type": "code",
   "execution_count": 30,
   "id": "3155571f",
   "metadata": {},
   "outputs": [
    {
     "name": "stderr",
     "output_type": "stream",
     "text": [
      "C:\\Users\\super\\AppData\\Local\\Temp\\ipykernel_18292\\761814279.py:1: SettingWithCopyWarning: \n",
      "A value is trying to be set on a copy of a slice from a DataFrame.\n",
      "Try using .loc[row_indexer,col_indexer] = value instead\n",
      "\n",
      "See the caveats in the documentation: https://pandas.pydata.org/pandas-docs/stable/user_guide/indexing.html#returning-a-view-versus-a-copy\n",
      "  df_filtered[\"LOCATION\"] = df_filtered[\"LOCATION\"].replace(code_to_name)\n"
     ]
    }
   ],
   "source": [
    "df_filtered[\"LOCATION\"] = df_filtered[\"LOCATION\"].replace(code_to_name)"
   ]
  },
  {
   "cell_type": "code",
   "execution_count": 31,
   "id": "a77170af",
   "metadata": {},
   "outputs": [
    {
     "data": {
      "text/html": [
       "<div>\n",
       "<style scoped>\n",
       "    .dataframe tbody tr th:only-of-type {\n",
       "        vertical-align: middle;\n",
       "    }\n",
       "\n",
       "    .dataframe tbody tr th {\n",
       "        vertical-align: top;\n",
       "    }\n",
       "\n",
       "    .dataframe thead th {\n",
       "        text-align: right;\n",
       "    }\n",
       "</style>\n",
       "<table border=\"1\" class=\"dataframe\">\n",
       "  <thead>\n",
       "    <tr style=\"text-align: right;\">\n",
       "      <th></th>\n",
       "      <th>LOCATION</th>\n",
       "      <th>INDICATOR</th>\n",
       "      <th>SUBJECT</th>\n",
       "      <th>MEASURE</th>\n",
       "      <th>FREQUENCY</th>\n",
       "      <th>TIME</th>\n",
       "      <th>Value</th>\n",
       "      <th>Flag Codes</th>\n",
       "    </tr>\n",
       "  </thead>\n",
       "  <tbody>\n",
       "    <tr>\n",
       "      <th>0</th>\n",
       "      <td>Australia</td>\n",
       "      <td>GDPHRWKD</td>\n",
       "      <td>TOT</td>\n",
       "      <td>USD</td>\n",
       "      <td>A</td>\n",
       "      <td>1970</td>\n",
       "      <td>26.841344</td>\n",
       "      <td>NaN</td>\n",
       "    </tr>\n",
       "    <tr>\n",
       "      <th>1</th>\n",
       "      <td>Australia</td>\n",
       "      <td>GDPHRWKD</td>\n",
       "      <td>TOT</td>\n",
       "      <td>USD</td>\n",
       "      <td>A</td>\n",
       "      <td>1971</td>\n",
       "      <td>27.511634</td>\n",
       "      <td>NaN</td>\n",
       "    </tr>\n",
       "    <tr>\n",
       "      <th>2</th>\n",
       "      <td>Australia</td>\n",
       "      <td>GDPHRWKD</td>\n",
       "      <td>TOT</td>\n",
       "      <td>USD</td>\n",
       "      <td>A</td>\n",
       "      <td>1972</td>\n",
       "      <td>28.118660</td>\n",
       "      <td>NaN</td>\n",
       "    </tr>\n",
       "    <tr>\n",
       "      <th>3</th>\n",
       "      <td>Australia</td>\n",
       "      <td>GDPHRWKD</td>\n",
       "      <td>TOT</td>\n",
       "      <td>USD</td>\n",
       "      <td>A</td>\n",
       "      <td>1973</td>\n",
       "      <td>28.698975</td>\n",
       "      <td>NaN</td>\n",
       "    </tr>\n",
       "    <tr>\n",
       "      <th>4</th>\n",
       "      <td>Australia</td>\n",
       "      <td>GDPHRWKD</td>\n",
       "      <td>TOT</td>\n",
       "      <td>USD</td>\n",
       "      <td>A</td>\n",
       "      <td>1974</td>\n",
       "      <td>28.238353</td>\n",
       "      <td>NaN</td>\n",
       "    </tr>\n",
       "    <tr>\n",
       "      <th>...</th>\n",
       "      <td>...</td>\n",
       "      <td>...</td>\n",
       "      <td>...</td>\n",
       "      <td>...</td>\n",
       "      <td>...</td>\n",
       "      <td>...</td>\n",
       "      <td>...</td>\n",
       "      <td>...</td>\n",
       "    </tr>\n",
       "    <tr>\n",
       "      <th>3940</th>\n",
       "      <td>Colombia</td>\n",
       "      <td>GDPHRWKD</td>\n",
       "      <td>TOT</td>\n",
       "      <td>IDX2015</td>\n",
       "      <td>A</td>\n",
       "      <td>2018</td>\n",
       "      <td>104.505878</td>\n",
       "      <td>NaN</td>\n",
       "    </tr>\n",
       "    <tr>\n",
       "      <th>3941</th>\n",
       "      <td>Colombia</td>\n",
       "      <td>GDPHRWKD</td>\n",
       "      <td>TOT</td>\n",
       "      <td>IDX2015</td>\n",
       "      <td>A</td>\n",
       "      <td>2019</td>\n",
       "      <td>107.793852</td>\n",
       "      <td>NaN</td>\n",
       "    </tr>\n",
       "    <tr>\n",
       "      <th>3942</th>\n",
       "      <td>Colombia</td>\n",
       "      <td>GDPHRWKD</td>\n",
       "      <td>TOT</td>\n",
       "      <td>IDX2015</td>\n",
       "      <td>A</td>\n",
       "      <td>2020</td>\n",
       "      <td>128.766334</td>\n",
       "      <td>NaN</td>\n",
       "    </tr>\n",
       "    <tr>\n",
       "      <th>3943</th>\n",
       "      <td>Colombia</td>\n",
       "      <td>GDPHRWKD</td>\n",
       "      <td>TOT</td>\n",
       "      <td>IDX2015</td>\n",
       "      <td>A</td>\n",
       "      <td>2021</td>\n",
       "      <td>114.888693</td>\n",
       "      <td>NaN</td>\n",
       "    </tr>\n",
       "    <tr>\n",
       "      <th>3944</th>\n",
       "      <td>Colombia</td>\n",
       "      <td>GDPHRWKD</td>\n",
       "      <td>TOT</td>\n",
       "      <td>IDX2015</td>\n",
       "      <td>A</td>\n",
       "      <td>2022</td>\n",
       "      <td>114.305086</td>\n",
       "      <td>NaN</td>\n",
       "    </tr>\n",
       "  </tbody>\n",
       "</table>\n",
       "<p>3631 rows × 8 columns</p>\n",
       "</div>"
      ],
      "text/plain": [
       "       LOCATION INDICATOR SUBJECT  MEASURE FREQUENCY  TIME       Value  \\\n",
       "0     Australia  GDPHRWKD     TOT      USD         A  1970   26.841344   \n",
       "1     Australia  GDPHRWKD     TOT      USD         A  1971   27.511634   \n",
       "2     Australia  GDPHRWKD     TOT      USD         A  1972   28.118660   \n",
       "3     Australia  GDPHRWKD     TOT      USD         A  1973   28.698975   \n",
       "4     Australia  GDPHRWKD     TOT      USD         A  1974   28.238353   \n",
       "...         ...       ...     ...      ...       ...   ...         ...   \n",
       "3940   Colombia  GDPHRWKD     TOT  IDX2015         A  2018  104.505878   \n",
       "3941   Colombia  GDPHRWKD     TOT  IDX2015         A  2019  107.793852   \n",
       "3942   Colombia  GDPHRWKD     TOT  IDX2015         A  2020  128.766334   \n",
       "3943   Colombia  GDPHRWKD     TOT  IDX2015         A  2021  114.888693   \n",
       "3944   Colombia  GDPHRWKD     TOT  IDX2015         A  2022  114.305086   \n",
       "\n",
       "     Flag Codes  \n",
       "0           NaN  \n",
       "1           NaN  \n",
       "2           NaN  \n",
       "3           NaN  \n",
       "4           NaN  \n",
       "...         ...  \n",
       "3940        NaN  \n",
       "3941        NaN  \n",
       "3942        NaN  \n",
       "3943        NaN  \n",
       "3944        NaN  \n",
       "\n",
       "[3631 rows x 8 columns]"
      ]
     },
     "execution_count": 31,
     "metadata": {},
     "output_type": "execute_result"
    }
   ],
   "source": [
    "df_filtered"
   ]
  },
  {
   "cell_type": "code",
   "execution_count": 37,
   "id": "5da5ab3c",
   "metadata": {},
   "outputs": [],
   "source": [
    "df_filtered = df_filtered[df_filtered[\"MEASURE\"] == \"USD\"]"
   ]
  },
  {
   "cell_type": "code",
   "execution_count": 39,
   "id": "83c24f41",
   "metadata": {},
   "outputs": [],
   "source": [
    "df_oup = df_filtered.drop([\"INDICATOR\", \"SUBJECT\", \"MEASURE\", \"FREQUENCY\", \"Flag Codes\"], axis=1)"
   ]
  },
  {
   "cell_type": "code",
   "execution_count": 42,
   "id": "284c806e",
   "metadata": {},
   "outputs": [
    {
     "data": {
      "text/plain": [
       "Value    1795\n",
       "dtype: int64"
      ]
     },
     "execution_count": 42,
     "metadata": {},
     "output_type": "execute_result"
    }
   ],
   "source": [
    "(df_oup.groupby([\"LOCATION\", \"TIME\"]).agg(\"count\") == 1).sum()"
   ]
  },
  {
   "cell_type": "code",
   "execution_count": 43,
   "id": "0b7b7fd6",
   "metadata": {},
   "outputs": [
    {
     "data": {
      "text/plain": [
       "1795"
      ]
     },
     "execution_count": 43,
     "metadata": {},
     "output_type": "execute_result"
    }
   ],
   "source": [
    "len(df_oup.groupby([\"LOCATION\", \"TIME\"]).agg(\"count\"))"
   ]
  },
  {
   "cell_type": "code",
   "execution_count": 44,
   "id": "59c6429c",
   "metadata": {},
   "outputs": [],
   "source": [
    "df_oup.columns = [\"Country\", \"Year\", \"Productivity\"]"
   ]
  },
  {
   "cell_type": "code",
   "execution_count": 45,
   "id": "204d8527",
   "metadata": {},
   "outputs": [],
   "source": [
    "df_oup.to_csv(\"productivity.csv\", index=False)"
   ]
  },
  {
   "cell_type": "code",
   "execution_count": 49,
   "id": "246016df",
   "metadata": {},
   "outputs": [],
   "source": [
    "g7_countries = [\"United Kingdom\", \"United States\", \"Japan\", \"Germany\", \"France\", \"Canada\", \"Italy\"]\n",
    "df_g7 = df_oup[df_oup[\"Country\"].isin(g7_countries)]"
   ]
  },
  {
   "cell_type": "code",
   "execution_count": 50,
   "id": "0c2a1b5a",
   "metadata": {},
   "outputs": [
    {
     "data": {
      "image/png": "[encoded data removed]",
      "text/plain": [
       "<Figure size 640x480 with 1 Axes>"
      ]
     },
     "metadata": {},
     "output_type": "display_data"
    }
   ],
   "source": [
    "for country, df_country in df_g7.groupby(\"Country\"):\n",
    "    plt.plot(df_country[\"Year\"], df_country[\"Productivity\"], label=country, color=\"red\" if country==\"Japan\" else \"grey\")\n",
    "# plt.legend()"
   ]
  },
  {
   "cell_type": "code",
   "execution_count": 51,
   "id": "3c67cc2e",
   "metadata": {},
   "outputs": [],
   "source": [
    "df_g7.to_csv(\"productivity_g7.csv\", index=False)"
   ]
  },
  {
   "cell_type": "code",
   "execution_count": 54,
   "id": "8a71bd97",
   "metadata": {},
   "outputs": [],
   "source": [
    "df_g7_20th = df_g7[df_g7[\"Year\"] >=2000]"
   ]
  },
  {
   "cell_type": "code",
   "execution_count": 56,
   "id": "1e16e0b0",
   "metadata": {},
   "outputs": [],
   "source": [
    "df_g7_20th.to_csv(\"productivity_g7.csv\")"
   ]
  },
  {
   "cell_type": "code",
   "execution_count": null,
   "id": "e7d34ced",
   "metadata": {},
   "outputs": [],
   "source": []
  }
 ],
 "metadata": {
  "kernelspec": {
   "display_name": "Python 3 (ipykernel)",
   "language": "python",
   "name": "python3"
  },
  "language_info": {
   "codemirror_mode": {
    "name": "ipython",
    "version": 3
   },
   "file_extension": ".py",
   "mimetype": "text/x-python",
   "name": "python",
   "nbconvert_exporter": "python",
   "pygments_lexer": "ipython3",
   "version": "3.9.13"
  }
 },
 "nbformat": 4,
 "nbformat_minor": 5
}
